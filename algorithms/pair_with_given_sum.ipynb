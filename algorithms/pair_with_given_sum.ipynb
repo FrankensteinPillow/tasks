{
 "cells": [
  {
   "cell_type": "markdown",
   "id": "1b5ad678",
   "metadata": {},
   "source": [
    "## Pair with giving sum\n",
    "\n",
    "The task is to find the indices of two array elements that add up to the desired sum.\n",
    "This task can be solved in several ways."
   ]
  },
  {
   "cell_type": "markdown",
   "id": "b084a6d5",
   "metadata": {},
   "source": [
    "#### Brute force approach\n",
    "Each element will be summed up with each element and compared with the desired sum.\n",
    "<br>**Time complexity: $O(n^2)$**\n",
    "<br>**Memory complexity: $O(1)$**"
   ]
  },
  {
   "cell_type": "code",
   "execution_count": 1,
   "id": "23dc92fe",
   "metadata": {},
   "outputs": [],
   "source": [
    "from random import randint\n",
    "from typing import Dict, List, Optional, Tuple\n",
    "\n",
    "\n",
    "def target_array_sum_bruteforce(\n",
    "    arr: List[int], target_sum: int\n",
    ") -> Tuple[int, int]:\n",
    "    for i, elem in enumerate(arr):\n",
    "        for j, elem1 in enumerate(arr):\n",
    "            if j == i:\n",
    "                continue\n",
    "            if elem + elem1 == target_sum:\n",
    "                return i, j\n",
    "    return -1, -1"
   ]
  },
  {
   "cell_type": "code",
   "execution_count": 2,
   "id": "f79914ac",
   "metadata": {},
   "outputs": [
    {
     "name": "stdout",
     "output_type": "stream",
     "text": [
      "[27, 3, 31, 1, 50, 9, 43, 31, 7, 35, 26, 18, 28, 17] -> 24 -> (8, 13)\n",
      "[32, 28, 27, 48, 42, 20, 3, 33, 13, 27] -> 33 -> (5, 8)\n",
      "[9, 23, 25, 13, 39, 47, 6, 48, 35, 19, 6, 24, 22, 19] -> 62 -> (1, 4)\n",
      "[33, 28, 36] -> 34 -> (-1, -1)\n",
      "[29, 4, 26, 14, 17] -> 83 -> (-1, -1)\n",
      "[48, 44, 25] -> 85 -> (-1, -1)\n",
      "[10, 30, 28, 39, 3, 2, 34, 13, 6, 8, 21, 45, 6, 6] -> 36 -> (1, 8)\n",
      "[37, 27, 23, 41, 19, 23, 33, 36, 21, 16, 46] -> 35 -> (4, 9)\n",
      "[35, 21, 24, 33, 3, 31, 19, 40, 24] -> 73 -> (3, 7)\n",
      "[36, 6, 48, 32, 21, 12, 5, 39, 6, 42, 6, 46, 22, 44] -> 90 -> (2, 9)\n"
     ]
    }
   ],
   "source": [
    "for _ in range(10):\n",
    "    x: int = randint(2, 100)\n",
    "    arr: List[int] = [randint(1, 50) for _ in range(2, randint(5, 20))]\n",
    "    print(f\"{arr} -> {x} -> {target_array_sum_bruteforce(arr, x)}\")"
   ]
  },
  {
   "cell_type": "markdown",
   "id": "df1d7770",
   "metadata": {},
   "source": [
    "#### Hashing approach\n",
    "For each element, we will store the difference between the next element and the desired sum as a key. If further we meet an element that will be equal to this sum, we can take it from the saved hashmap.\n",
    "<br>This approach can significantly reduce the time complexity, but at the same time requires additional memory allocation.\n",
    "<br>**Time complexity: $O(n)$**\n",
    "<br>**Memory complexity: $O(n)$**"
   ]
  },
  {
   "cell_type": "code",
   "execution_count": 3,
   "id": "2c4ba468",
   "metadata": {},
   "outputs": [],
   "source": [
    "def target_array_sum_hashing(\n",
    "    arr: List[int], target_sum: int\n",
    ") -> Tuple[int, int]:\n",
    "    results: Dict = {}\n",
    "    for i, elem in enumerate(arr):\n",
    "        difference: int = target_sum - elem\n",
    "        exist: Optional[int] = results.get(difference)\n",
    "        if exist is None:\n",
    "            results[difference] = i\n",
    "        exist = results.get(elem)\n",
    "        if exist is not None and results[elem] != i:\n",
    "            return results[elem], i\n",
    "    return -1, -1"
   ]
  },
  {
   "cell_type": "code",
   "execution_count": 4,
   "id": "14c5a7fb",
   "metadata": {},
   "outputs": [
    {
     "name": "stdout",
     "output_type": "stream",
     "text": [
      "[27, 42, 22, 24, 20, 47, 9, 49, 29, 31, 14, 50, 4, 26, 45, 21, 8, 41] -> 43 -> (8, 10)\n",
      "[39, 31, 43, 35, 24, 15, 2, 45, 34, 40, 22, 3, 9, 15, 16, 39] -> 63 -> (0, 4)\n",
      "[16, 29, 11, 37, 31, 46, 48, 43, 12] -> 22 -> (-1, -1)\n",
      "[50, 32, 39, 3, 11, 10, 44, 35, 31, 2, 16, 27, 2, 38, 31, 33, 29, 29] -> 12 -> (5, 9)\n",
      "[39, 47, 27, 37, 45, 1, 11, 32, 1, 11, 18, 45, 43, 45, 2, 34] -> 23 -> (-1, -1)\n",
      "[49, 35, 45, 47, 12, 7, 8, 23, 18, 34, 9] -> 100 -> (-1, -1)\n",
      "[30, 29, 30, 30, 20, 1, 28, 26, 2, 16, 41, 7] -> 44 -> (6, 9)\n",
      "[14, 37, 6, 29, 45, 11, 25, 44, 49, 47, 34, 8, 9, 49, 21] -> 51 -> (0, 1)\n",
      "[28, 5, 29, 40, 5, 20, 13, 37, 26, 6, 36, 41, 27, 20] -> 73 -> (7, 10)\n",
      "[50, 48, 28, 14, 47, 34, 34, 21, 48, 18, 17, 23, 36, 49, 1, 13] -> 94 -> (-1, -1)\n"
     ]
    }
   ],
   "source": [
    "for _ in range(10):\n",
    "    x: int = randint(2, 100)\n",
    "    arr: List[int] = [randint(1, 50) for _ in range(2, randint(5, 20))]\n",
    "    print(f\"{arr} -> {x} -> {target_array_sum_hashing(arr, x)}\")"
   ]
  },
  {
   "cell_type": "markdown",
   "id": "05a43f1f",
   "metadata": {},
   "source": [
    "#### Binary search in sorted array\n",
    "If we are sure that the original array is sorted, we can use binary search.\n",
    "<br>This algorithm is faster than the brute force approach but slower than using hashmap. However, there is no need for additional memory, which can be useful if there are memory constraints.\n",
    "<br>**Time complexity: $O(n\\log{n})$**\n",
    "<br>**Memory complexity: $O(1)$**"
   ]
  },
  {
   "cell_type": "code",
   "execution_count": 5,
   "id": "83043002",
   "metadata": {},
   "outputs": [],
   "source": [
    "def target_array_sum_binary_search(\n",
    "    arr: List[int], target_sum: int\n",
    ") -> Tuple[int, int]:\n",
    "    for i, elem in enumerate(arr):\n",
    "        left: int = 0\n",
    "        right: int = len(arr) - 1\n",
    "        while left <= right:\n",
    "            mid: int = left + ((right - left) // 2)\n",
    "            if target_sum < elem + arr[mid]:\n",
    "                right = mid - 1\n",
    "            elif target_sum > elem + arr[mid]:\n",
    "                left = mid + 1\n",
    "            else:\n",
    "                return (-1, -1) if mid == i else (mid, i)\n",
    "    return -1, -1"
   ]
  },
  {
   "cell_type": "code",
   "execution_count": 6,
   "id": "44794755",
   "metadata": {},
   "outputs": [
    {
     "name": "stdout",
     "output_type": "stream",
     "text": [
      "[1, 6, 9, 11, 17, 22, 27, 36, 44] -> 91 -> (-1, -1)\n",
      "[4, 16, 32, 41] -> 25 -> (-1, -1)\n",
      "[5, 10, 26, 33] -> 84 -> (-1, -1)\n",
      "[7, 13, 15, 15, 18, 33, 44, 48, 49] -> 64 -> (8, 2)\n",
      "[7, 18, 20, 45] -> 23 -> (-1, -1)\n",
      "[4, 7, 11, 12, 13, 19, 21, 24, 29] -> 9 -> (-1, -1)\n",
      "[1, 1, 9, 9, 9, 17, 18, 26, 30, 30, 35, 35, 36, 36, 39, 42, 44, 46] -> 80 -> (16, 12)\n",
      "[11, 24, 25] -> 70 -> (-1, -1)\n",
      "[2, 2, 8, 17, 25, 25, 30, 50] -> 57 -> (-1, -1)\n",
      "[10, 42, 44] -> 88 -> (-1, -1)\n"
     ]
    }
   ],
   "source": [
    "for _ in range(10):\n",
    "    x: int = randint(2, 100)\n",
    "    arr: List[int] = sorted([randint(1, 50) for _ in range(2, randint(5, 20))])\n",
    "    print(f\"{arr} -> {x} -> {target_array_sum_binary_search(arr, x)}\")"
   ]
  }
 ],
 "metadata": {
  "kernelspec": {
   "display_name": "Python 3",
   "language": "python",
   "name": "python3"
  },
  "language_info": {
   "codemirror_mode": {
    "name": "ipython",
    "version": 3
   },
   "file_extension": ".py",
   "mimetype": "text/x-python",
   "name": "python",
   "nbconvert_exporter": "python",
   "pygments_lexer": "ipython3",
   "version": "3.9.1"
  }
 },
 "nbformat": 4,
 "nbformat_minor": 5
}
