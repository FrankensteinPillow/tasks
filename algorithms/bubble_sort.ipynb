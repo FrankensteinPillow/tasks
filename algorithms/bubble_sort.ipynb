{
 "cells": [
  {
   "cell_type": "markdown",
   "id": "9df6bbe0",
   "metadata": {},
   "source": [
    "## Bubble sort\n",
    "\n",
    "The easiest way to implement sorting of array elements. That works by repeatedly swapping the adjacent elements if they are in wrong order.\n",
    "\n",
    "**Worst and Average Case Time Complexity** $O(n^2)$ - Worst case occurs when array is reverse sorted.\n",
    "<br>**Best Case Time Complexity**: $O(n)$ - Best case occurs when array is already sorted.\n",
    "<br>**Auxiliary Space**: $O(1)$"
   ]
  },
  {
   "cell_type": "code",
   "execution_count": 1,
   "id": "39599cde",
   "metadata": {},
   "outputs": [
    {
     "name": "stdout",
     "output_type": "stream",
     "text": [
      "Bubble sort:\n",
      "List of random integers:\n",
      "[7, 88, 41, 2, 71, 75, 4, 87, 6, 8, 96, 39, 16, 5, 98, 25, 41, 15, 4, 82, 73, 68, 68, 39, 54, 13, 77, 34, 54, 18, 53, 96, 23, 78, 16, 20, 14, 47, 68]\n",
      "List of sorted integers:\n",
      "[2, 4, 4, 5, 6, 7, 8, 13, 14, 15, 16, 16, 18, 20, 23, 25, 34, 39, 39, 41, 41, 47, 53, 54, 54, 68, 68, 68, 71, 73, 75, 77, 78, 82, 87, 88, 96, 96, 98]\n"
     ]
    }
   ],
   "source": [
    "from random import randint\n",
    "from typing import List\n",
    "\n",
    "\n",
    "def bubble_sort(arr: List[int]) -> None:\n",
    "    n: int = len(arr)\n",
    "    for i in range(n):\n",
    "        j: int = 0\n",
    "        while j < n - i - 1:\n",
    "            if arr[j + 1] < arr[j]:\n",
    "                arr[j + 1], arr[j] = arr[j], arr[j + 1]\n",
    "            j += 1\n",
    "\n",
    "\n",
    "random_numbers: List[int] = [\n",
    "    randint(1, 100) for i in range(randint(25, 40))\n",
    "]\n",
    "print(\"Bubble sort:\")\n",
    "print(f\"List of random integers:\\n{random_numbers}\")\n",
    "bubble_sort(random_numbers)\n",
    "print(f\"List of sorted integers:\\n{random_numbers}\")"
   ]
  }
 ],
 "metadata": {
  "kernelspec": {
   "display_name": "Python 3",
   "language": "python",
   "name": "python3"
  },
  "language_info": {
   "codemirror_mode": {
    "name": "ipython",
    "version": 3
   },
   "file_extension": ".py",
   "mimetype": "text/x-python",
   "name": "python",
   "nbconvert_exporter": "python",
   "pygments_lexer": "ipython3",
   "version": "3.9.1"
  }
 },
 "nbformat": 4,
 "nbformat_minor": 5
}
