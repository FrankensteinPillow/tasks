{
 "cells": [
  {
   "cell_type": "markdown",
   "id": "59cfe5e3",
   "metadata": {},
   "source": [
    "## Adding a value to the end of a linked list\n",
    "**Time complexity:** $O(n)$\n",
    "<br>**Memory complexity:** $O(1)$\n",
    "> The implementation of the **LinkedList** class can be found [here](https://github.com/FrankensteinPillow/tasks/blob/main/algorithms/linked_list.ipynb)\n",
    "### Simple implementation:"
   ]
  },
  {
   "cell_type": "code",
   "execution_count": 2,
   "id": "8ee9c83e",
   "metadata": {},
   "outputs": [
    {
     "name": "stdout",
     "output_type": "stream",
     "text": [
      "[ 0 | None ]\n",
      "[ 0 | next_ref ] --> [ 1 | None ]\n",
      "[ 0 | next_ref ] --> [ 1 | next_ref ] --> [ 2 | None ]\n",
      "[ 0 | next_ref ] --> [ 1 | next_ref ] --> [ 2 | next_ref ] --> [ 3 | None ]\n",
      "[ 0 | next_ref ] --> [ 1 | next_ref ] --> [ 2 | next_ref ] --> [ 3 | next_ref ] --> [ 4 | None ]\n",
      "[ 0 | next_ref ] --> [ 1 | next_ref ] --> [ 2 | next_ref ] --> [ 3 | next_ref ] --> [ 4 | next_ref ] --> [ 5 | None ]\n",
      "[ 0 | next_ref ] --> [ 1 | next_ref ] --> [ 2 | next_ref ] --> [ 3 | next_ref ] --> [ 4 | next_ref ] --> [ 5 | next_ref ] --> [ 6 | None ]\n"
     ]
    }
   ],
   "source": [
    "def add_element_to_tail(ll: LinkedList[T], data: T) -> None:\n",
    "    if ll.head is None:\n",
    "        ll.head = Node(data=data)\n",
    "        return\n",
    "    last_node: Node = ll.head\n",
    "    while last_node.next_node is not None:\n",
    "        last_node = last_node.next_node\n",
    "    last_node.next_node = Node(data=data)\n",
    "\n",
    "\n",
    "ll: LinkedList[int] = LinkedList()\n",
    "for i in range(7):\n",
    "    add_element_to_tail(ll, i)\n",
    "    print(ll)"
   ]
  }
 ],
 "metadata": {
  "kernelspec": {
   "display_name": "Python 3",
   "language": "python",
   "name": "python3"
  },
  "language_info": {
   "codemirror_mode": {
    "name": "ipython",
    "version": 3
   },
   "file_extension": ".py",
   "mimetype": "text/x-python",
   "name": "python",
   "nbconvert_exporter": "python",
   "pygments_lexer": "ipython3",
   "version": "3.9.1"
  }
 },
 "nbformat": 4,
 "nbformat_minor": 5
}
