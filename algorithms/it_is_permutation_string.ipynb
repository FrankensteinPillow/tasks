{
 "cells": [
  {
   "cell_type": "markdown",
   "id": "62953550",
   "metadata": {},
   "source": [
    "## Permutation string\n",
    "The task is to write a function that receives two lines as input and can determine whether one line is a permutation of the other."
   ]
  },
  {
   "cell_type": "markdown",
   "id": "66b18e01",
   "metadata": {},
   "source": [
    "To begin with, we can create two associative arrays in each of which we will count the number of uses of each character. If this number of at least one character diverges, the strings cannot be a permutation of each other.\n",
    "<br>**Time complexity: $O(n)$**\n",
    "<br>**Memory complexity: $O(n)$**"
   ]
  },
  {
   "cell_type": "code",
   "execution_count": 1,
   "id": "b9a360b0",
   "metadata": {},
   "outputs": [],
   "source": [
    "from typing import Dict, List, Tuple\n",
    "\n",
    "\n",
    "def is_permutation(string1: str, string2: str) -> bool:\n",
    "    string1_hm: Dict[str, int] = {}\n",
    "    string2_hm: Dict[str, int] = {}\n",
    "    for char in string1:\n",
    "        if char not in string1_hm:\n",
    "            string1_hm[char] = 1\n",
    "        else:\n",
    "            string1_hm[char] += 1\n",
    "    for char in string2:\n",
    "        if char not in string2_hm:\n",
    "            string2_hm[char] = 1\n",
    "        else:\n",
    "            string2_hm[char] += 1\n",
    "    for char in string1_hm:\n",
    "        if char not in string2_hm:\n",
    "            return False\n",
    "        if string1_hm[char] != string2_hm[char]:\n",
    "            return False\n",
    "    return True"
   ]
  },
  {
   "cell_type": "markdown",
   "id": "3fca5cd4",
   "metadata": {},
   "source": [
    "In the second approach, we can slightly optimize the runtime and memory. We can count the usage of symbols without creating a second associative array, but add and subtract values in one. Then check if for at least one character the number of occurrences is different from 0 - then these lines cannot be a permutation of each other.\n",
    "<br>**Time complexity: $O(n)$**\n",
    "<br>**Memory complexity: $O(n)$**"
   ]
  },
  {
   "cell_type": "code",
   "execution_count": 2,
   "id": "9f3e0d9f",
   "metadata": {},
   "outputs": [],
   "source": [
    "def is_permutation_optim(string1: str, string2: str) -> bool:\n",
    "    if len(string1) != len(string2):\n",
    "        return False\n",
    "    string_hm: Dict[str, int] = {}\n",
    "    char_indx: int = 0\n",
    "    for char_indx in range(0, len(string1)):\n",
    "        char1: str = string1[char_indx]\n",
    "        char2: str = string2[char_indx]\n",
    "        if char1 not in string_hm:\n",
    "            string_hm[char1] = 1\n",
    "        else:\n",
    "            string_hm[char1] += 1\n",
    "        if char2 not in string_hm:\n",
    "            string_hm[char2] = -1\n",
    "        else:\n",
    "            string_hm[char2] -= 1\n",
    "    for char_counter in string_hm.values():\n",
    "        if char_counter != 0:\n",
    "            return False\n",
    "    return True"
   ]
  },
  {
   "cell_type": "markdown",
   "id": "bbf82184",
   "metadata": {},
   "source": [
    "Third, we can simply sort the two strings and compare them character by character. This algorithm will have a higher time complexity, but the memory costs will be less.\n",
    "<br>**Time complexity: $O(n\\log{n})$**\n",
    "<br>**Memory complexity: $O(1)$**"
   ]
  },
  {
   "cell_type": "code",
   "execution_count": 3,
   "id": "5776081e",
   "metadata": {},
   "outputs": [],
   "source": [
    "def is_permutation_sorted(string1: str, string2: str) -> bool:\n",
    "    return sorted(string1) == sorted(string2)"
   ]
  },
  {
   "cell_type": "code",
   "execution_count": 4,
   "id": "7a4efe17",
   "metadata": {},
   "outputs": [
    {
     "name": "stdout",
     "output_type": "stream",
     "text": [
      "('abc', 'bca') -> True\n",
      "('abc', 'bca') -> True\n",
      "('abc', 'bca') -> True\n",
      "('abc', 'bbca') -> False\n",
      "('abc', 'bbca') -> False\n",
      "('abc', 'bbca') -> False\n",
      "('babc', 'bbca') -> True\n",
      "('babc', 'bbca') -> True\n",
      "('babc', 'bbca') -> True\n",
      "('babcjeddje', 'bbcaddjeje') -> True\n",
      "('babcjeddje', 'bbcaddjeje') -> True\n",
      "('babcjeddje', 'bbcaddjeje') -> True\n",
      "('babcjeddje  ', 'bbcaddjeje ') -> False\n",
      "('babcjeddje  ', 'bbcaddjeje ') -> False\n",
      "('babcjeddje  ', 'bbcaddjeje ') -> False\n",
      "('abc', 'abc') -> True\n",
      "('abc', 'abc') -> True\n",
      "('abc', 'abc') -> True\n",
      "('abcc', 'abc') -> False\n",
      "('abcc', 'abc') -> False\n",
      "('abcc', 'abc') -> False\n"
     ]
    }
   ],
   "source": [
    "strings: List[Tuple[str, str]] = [\n",
    "    (\"abc\", \"bca\"),\n",
    "    (\"abc\", \"bbca\"),\n",
    "    (\"babc\", \"bbca\"),\n",
    "    (\"babcjeddje\", \"bbcaddjeje\"),\n",
    "    (\"babcjeddje  \", \"bbcaddjeje \"),\n",
    "    (\"abc\", \"abc\"),\n",
    "    (\"abcc\", \"abc\"),\n",
    "]\n",
    "for string in strings:\n",
    "    print(f\"{string[0], string[1]} -> {is_permutation(string[0], string[1])}\")\n",
    "    print(\n",
    "        f\"{string[0], string[1]} -> \"\n",
    "        f\"{is_permutation_optim(string[0], string[1])}\"\n",
    "    )\n",
    "    print(\n",
    "        f\"{string[0], string[1]} -> \"\n",
    "        f\"{is_permutation_sorted(string[0], string[1])}\"\n",
    "    )\n"
   ]
  }
 ],
 "metadata": {
  "kernelspec": {
   "display_name": "Python 3",
   "language": "python",
   "name": "python3"
  },
  "language_info": {
   "codemirror_mode": {
    "name": "ipython",
    "version": 3
   },
   "file_extension": ".py",
   "mimetype": "text/x-python",
   "name": "python",
   "nbconvert_exporter": "python",
   "pygments_lexer": "ipython3",
   "version": "3.9.1"
  }
 },
 "nbformat": 4,
 "nbformat_minor": 5
}
