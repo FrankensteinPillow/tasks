{
 "cells": [
  {
   "cell_type": "markdown",
   "id": "c67983e4",
   "metadata": {},
   "source": [
    "## Plus one\n",
    "We have a representation of a number in the form of a list of digits. It is necessary to add `1` to this number so that the number is correct.\n",
    "> The task is taken from [here](https://practice.geeksforgeeks.org/preview-problems/706102/)\n",
    "\n",
    "<br>**Time complexity: $O(n)$**\n",
    "<br>**Memory complexity: $O(1)$**"
   ]
  },
  {
   "cell_type": "code",
   "execution_count": 1,
   "id": "c155c17f",
   "metadata": {},
   "outputs": [
    {
     "name": "stdout",
     "output_type": "stream",
     "text": [
      "------------------------------\n",
      "[3, 0, 5, 8, 7]\n",
      "[3, 0, 5, 8, 8]\n",
      "------------------------------\n",
      "[0, 2, 0, 2, 1, 8, 2, 4, 1, 5, 4, 6, 6, 0, 0]\n",
      "[0, 2, 0, 2, 1, 8, 2, 4, 1, 5, 4, 6, 6, 0, 1]\n",
      "------------------------------\n",
      "[9, 4, 6, 5, 3, 2, 4, 7]\n",
      "[9, 4, 6, 5, 3, 2, 4, 8]\n",
      "------------------------------\n",
      "[4, 6, 2, 2, 5, 2, 6]\n",
      "[4, 6, 2, 2, 5, 2, 7]\n",
      "------------------------------\n",
      "[9, 5, 7, 8, 7]\n",
      "[9, 5, 7, 8, 8]\n",
      "------------------------------\n",
      "[5, 6, 2, 5, 7, 7, 8, 9, 6]\n",
      "[5, 6, 2, 5, 7, 7, 8, 9, 7]\n",
      "------------------------------\n",
      "[7, 6, 4, 8, 0, 6, 5, 9, 0, 8, 3, 6, 4, 5]\n",
      "[7, 6, 4, 8, 0, 6, 5, 9, 0, 8, 3, 6, 4, 6]\n",
      "------------------------------\n",
      "[6, 9, 6, 8, 1, 8, 3]\n",
      "[6, 9, 6, 8, 1, 8, 4]\n",
      "------------------------------\n",
      "[6, 0, 3, 1, 0, 3, 6, 0, 9]\n",
      "[6, 0, 3, 1, 0, 3, 6, 1, 0]\n",
      "------------------------------\n",
      "[3, 1, 6]\n",
      "[3, 1, 7]\n"
     ]
    }
   ],
   "source": [
    "from random import randint\n",
    "from typing import List\n",
    "\n",
    "\n",
    "def plus_one(nums: List[int]) -> List[int]:\n",
    "    i: int = len(nums) - 1\n",
    "    one_plus: bool = False\n",
    "    while i >= 0:\n",
    "        new_num: int = nums[i] + one_plus\n",
    "        if i == len(nums) - 1:\n",
    "            new_num += 1\n",
    "        one_plus = False\n",
    "        if new_num > 9:\n",
    "            new_num = 0\n",
    "            one_plus = True\n",
    "        nums[i] = new_num\n",
    "        i -= 1\n",
    "    if one_plus:\n",
    "        nums = [1] + nums\n",
    "    return nums\n",
    "\n",
    "\n",
    "for _ in range(10):\n",
    "    a: List[int] = [randint(0, 9) for _ in range(randint(1, 15))]\n",
    "    print(\"-\" * 30)\n",
    "    print(a)\n",
    "    a = plus_one(a)\n",
    "    print(a)"
   ]
  }
 ],
 "metadata": {
  "kernelspec": {
   "display_name": "Python 3",
   "language": "python",
   "name": "python3"
  },
  "language_info": {
   "codemirror_mode": {
    "name": "ipython",
    "version": 3
   },
   "file_extension": ".py",
   "mimetype": "text/x-python",
   "name": "python",
   "nbconvert_exporter": "python",
   "pygments_lexer": "ipython3",
   "version": "3.9.1"
  }
 },
 "nbformat": 4,
 "nbformat_minor": 5
}
