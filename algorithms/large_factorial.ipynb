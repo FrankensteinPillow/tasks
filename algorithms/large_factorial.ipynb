{
 "cells": [
  {
   "cell_type": "markdown",
   "id": "11ee216b",
   "metadata": {},
   "source": [
    "## Large factorial\n",
    "> The task is taken from [here](https://practice.geeksforgeeks.org/problems/large-factorial4721/1/#)\n",
    "\n",
    "The task is to find the factorial for each value in the array.\n",
    "<br>**Time complexity: $O(n)$**\n",
    "<br>**Memory complexity: $O(n)$**"
   ]
  },
  {
   "cell_type": "code",
   "execution_count": 1,
   "id": "ae91fb2a",
   "metadata": {},
   "outputs": [
    {
     "name": "stdout",
     "output_type": "stream",
     "text": [
      "[6, 11, 1, 12, 10, 7, 5, 14, 9, 13]\n",
      "[720, 39916800, 1, 479001600, 3628800, 5040, 120, 87178291200, 362880, 6227020800]\n",
      "----------------------------------------\n",
      "[7, 4, 6, 7, 4, 6, 7, 4, 15, 1]\n",
      "[5040, 24, 720, 5040, 24, 720, 5040, 24, 1307674368000, 1]\n",
      "----------------------------------------\n",
      "[1, 14, 0, 11, 6, 5, 7, 2, 1, 5]\n",
      "[1, 87178291200, 1, 39916800, 720, 120, 5040, 2, 1, 120]\n",
      "----------------------------------------\n",
      "[13, 1, 5, 6, 2, 8, 3, 9, 11, 3]\n",
      "[6227020800, 1, 120, 720, 2, 40320, 6, 362880, 39916800, 6]\n",
      "----------------------------------------\n",
      "[0, 9, 4, 9, 10, 1, 12, 4, 14, 7]\n",
      "[1, 362880, 24, 362880, 3628800, 1, 479001600, 24, 87178291200, 5040]\n",
      "----------------------------------------\n",
      "[2, 6, 12, 12, 7, 4, 3, 7, 5, 10]\n",
      "[2, 720, 479001600, 479001600, 5040, 24, 6, 5040, 120, 3628800]\n",
      "----------------------------------------\n",
      "[8, 0, 2, 4, 0, 9, 10, 7, 12, 7]\n",
      "[40320, 1, 2, 24, 1, 362880, 3628800, 5040, 479001600, 5040]\n",
      "----------------------------------------\n",
      "[13, 6, 2, 6, 2, 12, 4, 8, 6, 0]\n",
      "[6227020800, 720, 2, 720, 2, 479001600, 24, 40320, 720, 1]\n",
      "----------------------------------------\n",
      "[8, 14, 3, 10, 5, 6, 14, 5, 5, 12]\n",
      "[40320, 87178291200, 6, 3628800, 120, 720, 87178291200, 120, 120, 479001600]\n",
      "----------------------------------------\n",
      "[1, 15, 3, 4, 6, 7, 9, 8, 15, 13]\n",
      "[1, 1307674368000, 6, 24, 720, 5040, 362880, 40320, 1307674368000, 6227020800]\n",
      "----------------------------------------\n"
     ]
    }
   ],
   "source": [
    "from random import randint\n",
    "from typing import List\n",
    "\n",
    "\n",
    "def large_factorial(numbers: List[int]) -> List[int]:\n",
    "    max_element: int = 0\n",
    "    for num in numbers:\n",
    "        if num > max_element:\n",
    "            max_element = num\n",
    "    factorials: List[int] = [1 for _ in range(max_element + 1)]\n",
    "    for i in range(1, max_element + 1):\n",
    "        factorials[i] = factorials[i - 1] * i\n",
    "    return [factorials[num] for num in numbers]\n",
    "\n",
    "\n",
    "for i in range(10):\n",
    "    arr: List[int] = [randint(0, 15) for _ in range(10)]\n",
    "    print(arr)\n",
    "    print(large_factorial(arr))\n",
    "    print(\"-\" * 40)\n"
   ]
  }
 ],
 "metadata": {
  "kernelspec": {
   "display_name": "Python 3",
   "language": "python",
   "name": "python3"
  },
  "language_info": {
   "codemirror_mode": {
    "name": "ipython",
    "version": 3
   },
   "file_extension": ".py",
   "mimetype": "text/x-python",
   "name": "python",
   "nbconvert_exporter": "python",
   "pygments_lexer": "ipython3",
   "version": "3.9.1"
  }
 },
 "nbformat": 4,
 "nbformat_minor": 5
}
