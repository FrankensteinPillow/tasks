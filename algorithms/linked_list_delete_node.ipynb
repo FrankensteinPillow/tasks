{
 "cells": [
  {
   "cell_type": "markdown",
   "id": "934c34b3",
   "metadata": {},
   "source": [
    "## Delete a linked list node\n",
    "**Time complexity:** $O(n)$\n",
    "<br>**Memory complexity:** $O(1)$\n",
    "> The implementation of the **LinkedList** class can be found [here](https://github.com/FrankensteinPillow/tasks/blob/main/algorithms/linked_list.ipynb)\n"
   ]
  },
  {
   "cell_type": "code",
   "execution_count": 2,
   "id": "44e739b0",
   "metadata": {},
   "outputs": [
    {
     "name": "stdout",
     "output_type": "stream",
     "text": [
      "[ 1 | next_ref ] --> [ 2 | next_ref ] --> [ 3 | next_ref ] --> [ 4 | next_ref ] --> [ 5 | None ]\n",
      "[ 1 | next_ref ] --> [ 2 | next_ref ] --> [ 4 | next_ref ] --> [ 5 | None ]\n",
      "[ 2 | next_ref ] --> [ 4 | next_ref ] --> [ 5 | None ]\n",
      "[ 2 | next_ref ] --> [ 4 | None ]\n",
      "Index 12 out of range.\n"
     ]
    }
   ],
   "source": [
    "def delete_node(ll: LinkedList[T], position: int) -> None:\n",
    "    if ll.head is None:\n",
    "        return\n",
    "    if position == 0:\n",
    "        ll.head = ll.head.next_node\n",
    "        return\n",
    "    index: int = 1\n",
    "    cur_node: Optional[Node[T]] = ll.head\n",
    "    next_node: Optional[Node[T]] = ll.head.next_node\n",
    "    while index < position:\n",
    "        cur_node = next_node\n",
    "        if next_node is None:\n",
    "            raise IndexError(f\"Index {position} out of range.\")\n",
    "        next_node = next_node.next_node\n",
    "        index += 1\n",
    "    if cur_node is not None and next_node is not None:\n",
    "        cur_node.next_node = next_node.next_node\n",
    "\n",
    "\n",
    "ll1: LinkedList[int] = LinkedList.from_list([1, 2, 3, 4, 5])\n",
    "print(ll1)\n",
    "delete_node(ll1, 2)\n",
    "print(ll1)\n",
    "delete_node(ll1, 0)\n",
    "print(ll1)\n",
    "delete_node(ll1, 2)\n",
    "print(ll1)\n",
    "try:\n",
    "    delete_node(ll1, 12)\n",
    "except IndexError as error:\n",
    "    print(error)"
   ]
  }
 ],
 "metadata": {
  "kernelspec": {
   "display_name": "Python 3",
   "language": "python",
   "name": "python3"
  },
  "language_info": {
   "codemirror_mode": {
    "name": "ipython",
    "version": 3
   },
   "file_extension": ".py",
   "mimetype": "text/x-python",
   "name": "python",
   "nbconvert_exporter": "python",
   "pygments_lexer": "ipython3",
   "version": "3.9.1"
  }
 },
 "nbformat": 4,
 "nbformat_minor": 5
}
