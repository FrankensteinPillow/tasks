{
 "cells": [
  {
   "cell_type": "markdown",
   "id": "45fad44d",
   "metadata": {},
   "source": [
    "## Majority element\n",
    "\n",
    "The majority element is the element that appears more than $\\frac{n}{2}$ times in the sequence.\n",
    "\n",
    "Several approaches can be used to find the majority element:\n",
    "\n",
    "#### Hashmap approach\n",
    "You can add elements of a sequence into a hashmap and increment the value by key. Then sort the hashmap by values and take the last element.\n",
    "<br>**Time complexity: $O(n)$**\n",
    "<br>**Memory complexity: $O(n)$**"
   ]
  },
  {
   "cell_type": "code",
   "execution_count": 1,
   "id": "92cbeb8e",
   "metadata": {},
   "outputs": [
    {
     "name": "stdout",
     "output_type": "stream",
     "text": [
      "Hashmap algorithm:\n",
      " -1 <- [2, 2, 2, 1, 2, 3, 3, 3, 3, 2, 3, 3, 2, 1]\n",
      " -1 <- [1, 3, 2, 2, 3, 1, 3]\n",
      "  1 <- [1, 3, 1]\n",
      " -1 <- [1, 1, 1, 1, 3, 3, 3, 3, 1, 3, 2, 3, 2]\n",
      " -1 <- [3, 2, 2, 2, 1, 1, 1, 1, 2]\n",
      "  1 <- [1]\n",
      "  3 <- [3, 2, 3]\n",
      " -1 <- [1, 1, 2, 3]\n",
      " -1 <- [3, 2, 2, 3, 1, 2, 1, 2, 1]\n",
      " -1 <- [1, 3, 3, 2]\n",
      "  1 <- [1, 1, 1, 2, 1, 3, 3, 1, 1, 3, 2, 2, 1]\n",
      "  2 <- [2, 1, 2, 2, 2, 1, 2, 1, 3]\n",
      " -1 <- [3, 1, 3, 1, 1, 1, 2, 3, 2, 3]\n",
      " -1 <- [2, 2, 2, 3, 3, 3, 1, 3, 1, 1, 1, 1]\n",
      "  3 <- [3, 1, 3, 3, 3, 2, 3, 1, 3, 3, 2, 3, 1, 1, 3]\n"
     ]
    }
   ],
   "source": [
    "import random\n",
    "from typing import Dict, List, Tuple\n",
    "\n",
    "\n",
    "def majority_element(A: List[int], N: int) -> int:\n",
    "    if N == 0:\n",
    "        return -1\n",
    "    if N == 1:\n",
    "        return A[0]\n",
    "    threshold: int = N // 2\n",
    "    res: Dict = {}\n",
    "    for elem in A:\n",
    "        if elem not in res:\n",
    "            res[elem] = 1\n",
    "            continue\n",
    "        res[elem] += 1\n",
    "    sorted_items: Tuple[int, int] = sorted(res.items(), key=lambda x: x[1])[-1]\n",
    "    if sorted_items[1] > threshold:\n",
    "        return sorted_items[0]\n",
    "    return -1\n",
    "\n",
    "\n",
    "print(\"Hashmap algorithm:\")\n",
    "for _ in range(15):\n",
    "    a = [random.randint(1, 3) for _ in range(random.randint(1, 15))]\n",
    "    res = majority_element(a, len(a))\n",
    "    print(f\"{res:3} <- {a}\")"
   ]
  },
  {
   "cell_type": "markdown",
   "id": "a6d07e2b",
   "metadata": {},
   "source": [
    "#### Randomization approach\n",
    "You can take a random number from the sequence and check if this element is the most common.\n",
    "\n",
    "It is technically possible for this algorithm to run indefinitely (if we never manage to randomly select the majority element, or if is no majority element in sequence), so the worst possible runtime is unbounded. However, the expected runtime is far better - linear, in fact.\n",
    "<br>**Time complexity: $O(\\infty)$**\n",
    "<br>**Memory complexity: $O(1)$**"
   ]
  },
  {
   "cell_type": "code",
   "execution_count": 2,
   "id": "7c0089d3",
   "metadata": {},
   "outputs": [
    {
     "name": "stdout",
     "output_type": "stream",
     "text": [
      "Random chose algorithm:\n",
      " -1 <- [3, 2, 2, 3, 1, 2]\n",
      "  2 <- [3, 2, 1, 3, 2, 2, 1, 2, 2, 2]\n",
      " -1 <- [3, 2, 2, 2, 2, 1, 2, 1, 3, 1, 2, 2, 3, 3, 3]\n",
      "  3 <- [3]\n",
      "  3 <- [3, 2, 2, 3, 3, 3, 3, 2, 1]\n",
      "  3 <- [1, 1, 1, 2, 3, 3, 3, 3, 3, 3]\n",
      "  2 <- [2, 2, 2, 2, 1, 2, 1, 1, 3, 2, 2, 1]\n",
      " -1 <- [1, 3, 2, 1, 2, 2, 3, 2, 2, 1, 1]\n",
      " -1 <- [3, 3, 3, 2, 1, 3, 2, 3, 1, 2]\n",
      "  1 <- [1, 3, 3, 1, 1, 2, 1, 1, 3, 1, 2, 1]\n",
      " -1 <- [2, 2, 3, 2, 1, 3, 2, 3, 3, 1]\n",
      " -1 <- [3, 2, 2, 1]\n",
      " -1 <- [1, 3, 2, 2, 3, 1, 2, 3, 2]\n",
      " -1 <- [2, 2, 2, 1, 1, 1, 1, 3, 3, 1, 2, 1, 2, 1, 3]\n",
      "  1 <- [1, 3, 1, 3, 1, 1, 3, 1, 3]\n"
     ]
    }
   ],
   "source": [
    "def majority_element_random(A: List[int], N: int) -> int:\n",
    "    threshold: int = N // 2\n",
    "    counter: int = 0\n",
    "    while True:\n",
    "        counter += 1\n",
    "        candidate: int = random.choice(A)\n",
    "        if sum(elem == candidate for elem in A) > threshold:\n",
    "            return candidate\n",
    "        # constraint for the algorithm to converge\n",
    "        if counter > N ^ 2:\n",
    "            return -1\n",
    "        \n",
    "\n",
    "print(\"Random chose algorithm:\")\n",
    "for _ in range(15):\n",
    "    a = [random.randint(1, 3) for _ in range(random.randint(1, 15))]\n",
    "    res = majority_element_random(a, len(a))\n",
    "    print(f\"{res:3} <- {a}\")"
   ]
  },
  {
   "cell_type": "markdown",
   "id": "63d9cec1",
   "metadata": {},
   "source": [
    "#### Boyer-Moore Voting Algorithm\n",
    "\n",
    "You can go through all the elements, starting from the first start counting the majority elements.\n",
    "Let us assume that the first element is the majority one. Then we will start adding $+1$ for the same elements and subtracting $-1$ for other elements. If the counter reaches $0$ then the next item is considered a majority candidate, and so on.\n",
    "<br>**Time complexity: $O(n)$**\n",
    "<br>**Memory complexity: $O(1)$**"
   ]
  },
  {
   "cell_type": "code",
   "execution_count": 3,
   "id": "47c2cb0d",
   "metadata": {},
   "outputs": [
    {
     "name": "stdout",
     "output_type": "stream",
     "text": [
      "Boyer-Moore algorithm:\n",
      " -1 <- [3, 1, 3, 1, 2, 2]\n",
      " -1 <- [3, 1, 3, 2]\n",
      "  2 <- [2, 2, 3, 2, 1, 2, 1, 1, 2, 2, 2]\n",
      "  3 <- [3, 1, 3, 1, 3, 3, 1]\n",
      " -1 <- [1, 3, 1, 3]\n",
      "  1 <- [1]\n",
      " -1 <- [3, 3, 1, 1, 2, 3, 1, 3, 1, 1, 3]\n",
      " -1 <- [3, 3, 3, 2, 2, 3, 3, 3, 2, 1, 1, 2, 1, 1]\n",
      "  2 <- [2]\n",
      " -1 <- [3, 2, 3, 3, 2, 1, 1, 1, 1, 2, 1, 2, 1]\n",
      " -1 <- [2, 3, 3, 1]\n",
      " -1 <- [2, 1, 2, 1, 3, 1, 3, 1, 2, 3, 2, 2, 2, 1, 1]\n",
      " -1 <- [1, 2, 2, 1, 3, 1, 1, 2, 2, 3, 1, 3, 1, 2]\n",
      " -1 <- [1, 3, 2, 1, 3]\n",
      "  2 <- [1, 3, 2, 2, 2, 2, 2, 2, 2]\n"
     ]
    }
   ],
   "source": [
    "def majority_element_Boyer_Moore(A: List[int], N: int) -> int:\n",
    "    threshold: int = N // 2\n",
    "    count: int = 0\n",
    "    for elem in A:\n",
    "        if count == 0:\n",
    "            candidate: int = elem\n",
    "        count += 1 if candidate == elem else -1\n",
    "    # here is a check to make sure that the majority element\n",
    "    # is present in the sequence\n",
    "    if sum(elem == candidate for elem in A) > threshold:\n",
    "        return candidate\n",
    "    else:\n",
    "        return -1\n",
    "    \n",
    "    \n",
    "print(\"Boyer-Moore algorithm:\")\n",
    "for _ in range(15):\n",
    "    a = [random.randint(1, 3) for _ in range(random.randint(1, 15))]\n",
    "    res = majority_element_Boyer_Moore(a, len(a))\n",
    "    print(f\"{res:3} <- {a}\")"
   ]
  }
 ],
 "metadata": {
  "kernelspec": {
   "display_name": "Python 3",
   "language": "python",
   "name": "python3"
  },
  "language_info": {
   "codemirror_mode": {
    "name": "ipython",
    "version": 3
   },
   "file_extension": ".py",
   "mimetype": "text/x-python",
   "name": "python",
   "nbconvert_exporter": "python",
   "pygments_lexer": "ipython3",
   "version": "3.9.1"
  }
 },
 "nbformat": 4,
 "nbformat_minor": 5
}
