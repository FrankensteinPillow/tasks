{
 "cells": [
  {
   "cell_type": "markdown",
   "id": "45880768",
   "metadata": {},
   "source": [
    "## Insert a node at a specific position in a linked list\n",
    "**Time complexity:** $O(n)$\n",
    "<br>**Memory complexity:** $O(1)$\n",
    "> The implementation of the **LinkedList** class can be found [here](https://github.com/FrankensteinPillow/tasks/blob/main/algorithms/linked_list.ipynb)\n"
   ]
  },
  {
   "cell_type": "code",
   "execution_count": 2,
   "id": "a463ccd9",
   "metadata": {},
   "outputs": [
    {
     "name": "stdout",
     "output_type": "stream",
     "text": [
      "[ 1 | next_ref ] --> [ 2 | next_ref ] --> [ 3 | next_ref ] --> [ 4 | next_ref ] --> [ 5 | None ]\n",
      "[ 666 | next_ref ] --> [ 1 | next_ref ] --> [ 2 | next_ref ] --> [ 3 | next_ref ] --> [ 4 | next_ref ] --> [ 5 | None ]\n",
      "[ 666 | next_ref ] --> [ 1 | next_ref ] --> [ 2 | next_ref ] --> [ 3 | next_ref ] --> [ 555 | next_ref ] --> [ 4 | next_ref ] --> [ 5 | None ]\n",
      "[ 666 | next_ref ] --> [ 1 | next_ref ] --> [ 2 | next_ref ] --> [ 3 | next_ref ] --> [ 555 | next_ref ] --> [ 4 | next_ref ] --> [ 5 | next_ref ] --> [ 444 | None ]\n",
      "[ 666 | None ]\n",
      "[ 777 | next_ref ] --> [ 666 | None ]\n",
      "Insertion index '9' out of range.\n",
      "Cannot be assigned a value at a negative index.\n"
     ]
    }
   ],
   "source": [
    "def insert_node(ll: LinkedList, position: int, data: T) -> None:\n",
    "    if position < 0:\n",
    "        raise IndexError(\"Cannot be assigned a value at a negative index.\")\n",
    "    new_node: Node[T] = Node(data=data)\n",
    "    index: int = 0\n",
    "    prev_node: Optional[Node[T]] = ll.head\n",
    "    cur_node: Optional[Node[T]] = ll.head\n",
    "    if position == 0:\n",
    "        new_node.next_node = prev_node\n",
    "        ll.head = new_node\n",
    "        return\n",
    "    while index < position:\n",
    "        if cur_node is None:\n",
    "            raise IndexError(f\"Insertion index '{position}' out of range.\")\n",
    "        prev_node = cur_node\n",
    "        cur_node = cur_node.next_node\n",
    "        index += 1\n",
    "    if prev_node is not None:\n",
    "        prev_node.next_node = new_node\n",
    "    new_node.next_node = cur_node\n",
    "    \n",
    " \n",
    "ll1: LinkedList[int] = LinkedList.from_list([1, 2, 3, 4, 5])\n",
    "print(ll1)\n",
    "insert_node(ll1, 0, 666)\n",
    "print(ll1)\n",
    "insert_node(ll1, 4, 555)\n",
    "print(ll1)\n",
    "insert_node(ll1, 7, 444)\n",
    "print(ll1)\n",
    "ll2: LinkedList[int] = LinkedList()\n",
    "insert_node(ll2, 0, 666)\n",
    "print(ll2)\n",
    "insert_node(ll2, 0, 777)\n",
    "print(ll2)\n",
    "try:\n",
    "    insert_node(ll1, 9, 444)\n",
    "except IndexError as error:\n",
    "    print(error)\n",
    "ll3: LinkedList[int] = LinkedList()\n",
    "try:\n",
    "    insert_node(ll3, -666, 666)\n",
    "except IndexError as error:\n",
    "    print(error)"
   ]
  }
 ],
 "metadata": {
  "kernelspec": {
   "display_name": "Python 3",
   "language": "python",
   "name": "python3"
  },
  "language_info": {
   "codemirror_mode": {
    "name": "ipython",
    "version": 3
   },
   "file_extension": ".py",
   "mimetype": "text/x-python",
   "name": "python",
   "nbconvert_exporter": "python",
   "pygments_lexer": "ipython3",
   "version": "3.9.1"
  }
 },
 "nbformat": 4,
 "nbformat_minor": 5
}
