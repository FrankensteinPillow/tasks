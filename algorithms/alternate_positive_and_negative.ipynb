{
 "cells": [
  {
   "cell_type": "markdown",
   "id": "bbc3e9ea",
   "metadata": {},
   "source": [
    "## Alternate positive and negative numbers\n",
    "> The task is taken from [here](https://practice.geeksforgeeks.org/problems/array-of-alternate-ve-and-ve-nos1401/1#)\n",
    "\n",
    "The task is to sort the array of positive and negative numbers. The numbers should alternate, the first number is positive, then negative, and so on. Positive and negative numbers must be in the sorted array in the same order relative to each other.\n",
    "<br>**Time complexity: $O(n)$**\n",
    "<br>**Memory complexity: $O(n)$**"
   ]
  },
  {
   "cell_type": "code",
   "execution_count": 1,
   "id": "e48139c5",
   "metadata": {},
   "outputs": [
    {
     "name": "stdout",
     "output_type": "stream",
     "text": [
      "------------------------------------------------------------\n",
      "[-2, 7, 5, 0, -5, -6, 6, 8, -2, -7, -10, -9]\n",
      "[7, -2, 5, -5, 0, -6, 6, -2, 8, -7, -10, -9]\n",
      "------------------------------------------------------------\n",
      "[-6, -6, 3]\n",
      "[3, -6, -6]\n",
      "------------------------------------------------------------\n",
      "[1, -4, -7, 6, 2, 3, -6, -6, 9, -8, -10, 3]\n",
      "[1, -4, 6, -7, 2, -6, 3, -6, 9, -8, 3, -10]\n",
      "------------------------------------------------------------\n",
      "[-8, -1, 10, -7, 6, -8, 9, 2, 7, 7, -2, -3]\n",
      "[10, -8, 6, -1, 9, -7, 2, -8, 7, -2, 7, -3]\n",
      "------------------------------------------------------------\n",
      "[-9, -1, -8, -9, -4, 10]\n",
      "[10, -9, -1, -8, -9, -4]\n",
      "------------------------------------------------------------\n",
      "[1, 1, -3, -8, 1, 1, -5]\n",
      "[1, -3, 1, -8, 1, -5, 1]\n",
      "------------------------------------------------------------\n",
      "[10, 4, 10, -5, -2, 2, 9, -9, 3, 7, 3, 0]\n",
      "[10, -5, 4, -2, 10, -9, 2, 9, 3, 7, 3, 0]\n",
      "------------------------------------------------------------\n",
      "[4, 7, 2, -7]\n",
      "[4, -7, 7, 2]\n",
      "------------------------------------------------------------\n",
      "[-1, 6, 9]\n",
      "[6, -1, 9]\n",
      "------------------------------------------------------------\n",
      "[9, 6, 5, -2]\n",
      "[9, -2, 6, 5]\n"
     ]
    }
   ],
   "source": [
    "from random import randint\n",
    "from typing import List\n",
    "\n",
    "\n",
    "def alternate(nums: List[int]) -> None:\n",
    "    plus_nums: List[int] = [i for i in nums if i >= 0]\n",
    "    minus_nums: List[int] = [i for i in nums if i < 0]\n",
    "    counter: int = 0\n",
    "    minus_counter: int = 0\n",
    "    for i in range(len(plus_nums)):\n",
    "        nums[counter] = plus_nums[i]\n",
    "        counter += 1\n",
    "        if i < len(minus_nums):\n",
    "            nums[counter] = minus_nums[i]\n",
    "            counter += 1\n",
    "            minus_counter += 1\n",
    "    if len(plus_nums) < len(minus_nums):\n",
    "        for j in range(minus_counter, len(minus_nums)):\n",
    "            nums[counter] = minus_nums[j]\n",
    "            counter += 1\n",
    "\n",
    "\n",
    "for _ in range(10):\n",
    "    a: List[int] = [randint(-10, 10) for _ in range(randint(3, 15))]\n",
    "    print(\"-\" * 60)\n",
    "    print(a)\n",
    "    alternate(a)\n",
    "    print(a)"
   ]
  }
 ],
 "metadata": {
  "kernelspec": {
   "display_name": "Python 3",
   "language": "python",
   "name": "python3"
  },
  "language_info": {
   "codemirror_mode": {
    "name": "ipython",
    "version": 3
   },
   "file_extension": ".py",
   "mimetype": "text/x-python",
   "name": "python",
   "nbconvert_exporter": "python",
   "pygments_lexer": "ipython3",
   "version": "3.9.1"
  }
 },
 "nbformat": 4,
 "nbformat_minor": 5
}
