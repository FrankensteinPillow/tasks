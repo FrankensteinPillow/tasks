{
 "cells": [
  {
   "cell_type": "markdown",
   "id": "123d241e",
   "metadata": {},
   "source": [
    "## Adding a value to the head of a linked list\n",
    "**Time complexity:** $O(1)$\n",
    "<br>**Memory complexity:** $O(1)$\n",
    "> The implementation of the **LinkedList** class can be found [here](https://github.com/FrankensteinPillow/tasks/blob/main/algorithms/linked_list.ipynb)"
   ]
  },
  {
   "cell_type": "code",
   "execution_count": 2,
   "id": "e382add0",
   "metadata": {},
   "outputs": [
    {
     "name": "stdout",
     "output_type": "stream",
     "text": [
      "[ 0 | None ]\n",
      "[ 1 | next_ref ] --> [ 0 | None ]\n",
      "[ 2 | next_ref ] --> [ 1 | next_ref ] --> [ 0 | None ]\n",
      "[ 3 | next_ref ] --> [ 2 | next_ref ] --> [ 1 | next_ref ] --> [ 0 | None ]\n",
      "[ 4 | next_ref ] --> [ 3 | next_ref ] --> [ 2 | next_ref ] --> [ 1 | next_ref ] --> [ 0 | None ]\n",
      "[ 5 | next_ref ] --> [ 4 | next_ref ] --> [ 3 | next_ref ] --> [ 2 | next_ref ] --> [ 1 | next_ref ] --> [ 0 | None ]\n",
      "[ 6 | next_ref ] --> [ 5 | next_ref ] --> [ 4 | next_ref ] --> [ 3 | next_ref ] --> [ 2 | next_ref ] --> [ 1 | next_ref ] --> [ 0 | None ]\n"
     ]
    }
   ],
   "source": [
    "def add_element_to_head(ll: LinkedList[T], data: T) -> None:\n",
    "    new_head: Node = Node(data=data)\n",
    "    if ll.head is None:\n",
    "        ll.head = new_head\n",
    "        return\n",
    "    next_node: Node[T] = ll.head\n",
    "    ll.head = new_head\n",
    "    ll.head.next_node = next_node\n",
    "\n",
    "\n",
    "ll: LinkedList[int] = LinkedList()\n",
    "for i in range(7):\n",
    "    add_element_to_head(ll, i)\n",
    "    print(ll)"
   ]
  }
 ],
 "metadata": {
  "kernelspec": {
   "display_name": "Python 3",
   "language": "python",
   "name": "python3"
  },
  "language_info": {
   "codemirror_mode": {
    "name": "ipython",
    "version": 3
   },
   "file_extension": ".py",
   "mimetype": "text/x-python",
   "name": "python",
   "nbconvert_exporter": "python",
   "pygments_lexer": "ipython3",
   "version": "3.9.1"
  }
 },
 "nbformat": 4,
 "nbformat_minor": 5
}
