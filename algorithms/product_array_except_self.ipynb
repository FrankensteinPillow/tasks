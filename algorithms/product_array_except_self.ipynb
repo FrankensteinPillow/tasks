{
 "cells": [
  {
   "cell_type": "markdown",
   "id": "a6bf27c8",
   "metadata": {},
   "source": [
    "## Product array except self value\n",
    "> The task is taken from [here](https://leetcode.com/problems/product-of-array-except-self/)\n",
    "\n",
    "The task is to multiply all the elements of the array except for the `i` element and write the result of the multiplication to index `i`.\n",
    "<br>**Time complexity: $O(n)$**\n",
    "<br>**Memory complexity: $O(n)$**\n",
    "\n",
    "There are two ways to solve this problem:\n",
    "#### Approach 1:\n",
    "Create a new array and traverse the original array first from left to right to write the results of the multiplication.\n",
    "Then traverse the original array from right to left and add the multiplication results."
   ]
  },
  {
   "cell_type": "code",
   "execution_count": 1,
   "id": "514e283c",
   "metadata": {},
   "outputs": [
    {
     "name": "stdout",
     "output_type": "stream",
     "text": [
      "------------------------------------------------------------\n",
      "[2, 9, 9, 10, 4, 5]\n",
      "[16200, 3600, 3600, 3240, 8100, 6480]\n",
      "------------------------------------------------------------\n",
      "[4, 3, 6, 10, 6, 9, 7]\n",
      "[68040, 90720, 45360, 27216, 45360, 30240, 38880]\n",
      "------------------------------------------------------------\n",
      "[5]\n",
      "[1]\n",
      "------------------------------------------------------------\n",
      "[7, 3, 6, 6]\n",
      "[108, 252, 126, 126]\n",
      "------------------------------------------------------------\n",
      "[4, 2, 3, 3, 7, 10, 4, 9, 4]\n",
      "[181440, 362880, 241920, 241920, 103680, 72576, 181440, 80640, 181440]\n",
      "------------------------------------------------------------\n",
      "[5, 3, 8, 4, 6, 6, 3]\n",
      "[10368, 17280, 6480, 12960, 8640, 8640, 17280]\n",
      "------------------------------------------------------------\n",
      "[7, 3, 1, 5]\n",
      "[15, 35, 105, 21]\n",
      "------------------------------------------------------------\n",
      "[10, 7, 4, 4, 7]\n",
      "[784, 1120, 1960, 1960, 1120]\n",
      "------------------------------------------------------------\n",
      "[2, 3, 2, 4, 1]\n",
      "[24, 16, 24, 12, 48]\n",
      "------------------------------------------------------------\n",
      "[8, 5, 5, 8]\n",
      "[200, 320, 320, 200]\n"
     ]
    }
   ],
   "source": [
    "from random import randint\n",
    "from typing import List\n",
    "\n",
    "\n",
    "def product_except_self(numbers: List[int]) -> List[int]:\n",
    "    n: int = len(numbers)\n",
    "    result: List[int] = [1] * n\n",
    "    for i in range(1, n):\n",
    "        result[i] = result[i - 1] * numbers[i - 1]\n",
    "    accum: int = 1\n",
    "    for i in range(n - 2, -1, -1):\n",
    "        accum *= numbers[i + 1]\n",
    "        result[i] *= accum\n",
    "    return result\n",
    "\n",
    "for _ in range(10):\n",
    "    numbers: List[int] = [randint(1, 10) for _ in range(randint(1, 9))]\n",
    "    print(\"-\" * 60)\n",
    "    print(numbers)\n",
    "    print(product_except_self(numbers))"
   ]
  },
  {
   "cell_type": "markdown",
   "id": "886e53d8",
   "metadata": {},
   "source": [
    "#### Approach 2\n",
    "Go through the original array and multiply all of its elements. Get the value of this multiplication.\n",
    "Go through the elements of the array again and divide the value of the result of the multiplication by the element of the array. Create a new array from these values."
   ]
  },
  {
   "cell_type": "code",
   "execution_count": 2,
   "id": "d03bb76e",
   "metadata": {},
   "outputs": [
    {
     "name": "stdout",
     "output_type": "stream",
     "text": [
      "------------------------------------------------------------\n",
      "[6, 2, 3, 8, 8]\n",
      "[384, 1152, 768, 288, 288]\n",
      "------------------------------------------------------------\n",
      "[5, 3, 6, 3, 9]\n",
      "[486, 810, 405, 810, 270]\n",
      "------------------------------------------------------------\n",
      "[9, 9, 5, 2, 6, 1, 4, 8]\n",
      "[17280, 17280, 31104, 77760, 25920, 155520, 38880, 19440]\n",
      "------------------------------------------------------------\n",
      "[3, 7, 9, 5, 8, 9]\n",
      "[22680, 9720, 7560, 13608, 8505, 7560]\n",
      "------------------------------------------------------------\n",
      "[2, 7, 6, 8, 7, 1, 1]\n",
      "[2352, 672, 784, 588, 672, 4704, 4704]\n",
      "------------------------------------------------------------\n",
      "[10, 3, 10, 1, 1, 7, 10, 10, 5]\n",
      "[105000, 350000, 105000, 1050000, 1050000, 150000, 105000, 105000, 210000]\n",
      "------------------------------------------------------------\n",
      "[1, 6, 4]\n",
      "[24, 4, 6]\n",
      "------------------------------------------------------------\n",
      "[4]\n",
      "[1]\n",
      "------------------------------------------------------------\n",
      "[2, 4, 6, 3, 5]\n",
      "[360, 180, 120, 240, 144]\n",
      "------------------------------------------------------------\n",
      "[4, 8, 3, 7, 8, 3, 2, 4, 10]\n",
      "[322560, 161280, 430080, 184320, 161280, 430080, 645120, 322560, 129024]\n"
     ]
    }
   ],
   "source": [
    "def product_except_self(numbers: List[int]) -> List[int]:\n",
    "    result: List[int] = []\n",
    "    product: int = 1\n",
    "    for v in numbers:\n",
    "        product *= v\n",
    "    for v in numbers:\n",
    "        result.append(int(product / v))\n",
    "    return result\n",
    "\n",
    "for _ in range(10):\n",
    "    numbers: List[int] = [randint(1, 10) for _ in range(randint(1, 9))]\n",
    "    print(\"-\" * 60)\n",
    "    print(numbers)\n",
    "    print(product_except_self(numbers))"
   ]
  }
 ],
 "metadata": {
  "kernelspec": {
   "display_name": "Python 3",
   "language": "python",
   "name": "python3"
  },
  "language_info": {
   "codemirror_mode": {
    "name": "ipython",
    "version": 3
   },
   "file_extension": ".py",
   "mimetype": "text/x-python",
   "name": "python",
   "nbconvert_exporter": "python",
   "pygments_lexer": "ipython3",
   "version": "3.9.1"
  }
 },
 "nbformat": 4,
 "nbformat_minor": 5
}
