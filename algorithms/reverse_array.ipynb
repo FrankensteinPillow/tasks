{
 "cells": [
  {
   "cell_type": "markdown",
   "id": "acf15700",
   "metadata": {},
   "source": [
    "## Array in reverse order\n",
    "**Time complexity:** $O(n)$\n",
    "<br>**Memory complexity:** $O(1)$"
   ]
  },
  {
   "cell_type": "code",
   "execution_count": 2,
   "id": "289e6c1c",
   "metadata": {},
   "outputs": [
    {
     "name": "stdout",
     "output_type": "stream",
     "text": [
      "[0:0] [1:1] [2:4] [3:9] [4:16] [5:25] [6:36] [7:49] [8:64] [9:81] [10:100]\n",
      "[0:100] [1:81] [2:64] [3:49] [4:36] [5:25] [6:16] [7:9] [8:4] [9:1] [10:0]\n"
     ]
    }
   ],
   "source": [
    "from typing import Generic, List, Optional, TypeVar\n",
    "\n",
    "T = TypeVar(\"T\")\n",
    "\n",
    "\n",
    "class Array(Generic[T]):\n",
    "    def __init__(self):\n",
    "        self.data: List[T] = []\n",
    "\n",
    "    def __len__(self) -> int:\n",
    "        if not self.data:\n",
    "            return 0\n",
    "        return len(self.data)\n",
    "\n",
    "    def __getitem__(self, key: int) -> T:\n",
    "        self._checks(key)\n",
    "        return self.data[key]\n",
    "\n",
    "    def __setitem__(self, key: int, value: T) -> None:\n",
    "        self._checks(key)\n",
    "        if len(self.data) <= key:\n",
    "            self.data.append(value)\n",
    "            return\n",
    "        if self.data is not None:\n",
    "            self.data[key] = value\n",
    "\n",
    "    def __delitem__(self, key: int) -> None:\n",
    "        self._checks(key)\n",
    "        del self.data[key]\n",
    "\n",
    "    def _checks(self, key: int) -> None:\n",
    "        if not isinstance(key, int):\n",
    "            raise TypeError(\"Wrong key type...\")\n",
    "        if key < 0:\n",
    "            raise ValueError(\"Not support negative index...\")\n",
    "        if key > len(self):\n",
    "            raise IndexError(\"Index out of range...\")\n",
    "\n",
    "    def __str__(self) -> str:\n",
    "        res: List[str] = []\n",
    "        for i in range(len(self)):\n",
    "            res.append(f\"[{i}:{self[i]}]\")\n",
    "        return \" \".join(res)\n",
    "\n",
    "\n",
    "def reverse_array(arr: Array) -> Array:\n",
    "    i: int = 0\n",
    "    j: int = len(arr) - 1\n",
    "    while i < j:\n",
    "        arr[i], arr[j] = arr[j], arr[i]\n",
    "        i += 1\n",
    "        j -= 1\n",
    "    return arr\n",
    "\n",
    "\n",
    "a: Array[int] = Array()\n",
    "for i in range(11):\n",
    "    a[i] = i ** 2\n",
    "print(a)\n",
    "reverse_array(a)\n",
    "print(a)"
   ]
  }
 ],
 "metadata": {
  "kernelspec": {
   "display_name": "Python 3",
   "language": "python",
   "name": "python3"
  },
  "language_info": {
   "codemirror_mode": {
    "name": "ipython",
    "version": 3
   },
   "file_extension": ".py",
   "mimetype": "text/x-python",
   "name": "python",
   "nbconvert_exporter": "python",
   "pygments_lexer": "ipython3",
   "version": "3.9.1"
  }
 },
 "nbformat": 4,
 "nbformat_minor": 5
}
