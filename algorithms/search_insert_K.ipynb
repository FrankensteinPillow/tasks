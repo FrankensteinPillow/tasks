{
 "cells": [
  {
   "cell_type": "markdown",
   "id": "db2db373",
   "metadata": {},
   "source": [
    "## Search insert position of K in a sorted array\n",
    "> The task is taken from [here](https://practice.geeksforgeeks.org/problems/search-insert-position-of-k-in-a-sorted-array/1/#)\n",
    "\n",
    "Need to find the element you are looking for in the sorted array and return the index of this element. If the required element is absent, return the index at which the given element could be inserted.\n",
    "<br>Here we use the binary search method in an array.\n",
    "<br>**Time complexity: $O(logn)$**\n",
    "<br>**Memory complexity: $O(1)$**"
   ]
  },
  {
   "cell_type": "code",
   "execution_count": 1,
   "id": "4e84afd4",
   "metadata": {},
   "outputs": [
    {
     "name": "stdout",
     "output_type": "stream",
     "text": [
      "[-14, -11, -9, -6, 8, 10] 13\n",
      "6\n",
      "----------------------------------------\n",
      "[-15, -15, -9, -9, -2, 5, 11, 12, 15] 14\n",
      "8\n",
      "----------------------------------------\n",
      "[-13, -12, -8, -8, -6, -2, 0, 8, 11] -5\n",
      "5\n",
      "----------------------------------------\n",
      "[-15, -12, -11, -6, -5, -2, 9] -7\n",
      "3\n",
      "----------------------------------------\n",
      "[-12, -10, -9, -5, -3, 1, 2, 4, 4, 14] 10\n",
      "9\n",
      "----------------------------------------\n",
      "[-14, -13, -12, -7, -2, 1, 2, 5, 6, 7, 11, 12, 13, 14] 2\n",
      "6\n",
      "----------------------------------------\n",
      "[-15, -13, -11, -3, -1, 0, 3, 8, 10, 12, 14, 14] 8\n",
      "7\n",
      "----------------------------------------\n",
      "[-13, -12, -9, -9, -7, -2, 0, 2, 2, 5, 11] 0\n",
      "6\n",
      "----------------------------------------\n",
      "[-15, -14, -13, -13, -6, -5, 0, 5, 6, 10] -8\n",
      "4\n",
      "----------------------------------------\n",
      "[-15, -14, 0, 2, 4] -1\n",
      "2\n",
      "----------------------------------------\n"
     ]
    }
   ],
   "source": [
    "from random import randint\n",
    "from typing import List\n",
    "\n",
    "\n",
    "def search_insert_K(numbers: List[int], k: int) -> int:\n",
    "    left: int = 0\n",
    "    right: int = len(numbers) - 1\n",
    "    i: int = 0\n",
    "    while left <= right:\n",
    "        i = left + (right - left) // 2\n",
    "        num: int = numbers[i]\n",
    "        if num == k:\n",
    "            return i\n",
    "        elif k < num:\n",
    "            right = i - 1\n",
    "        elif k > num:\n",
    "            left = i + 1\n",
    "    return i + 1 if k > num else i\n",
    "\n",
    "\n",
    "for _ in range(10):\n",
    "    a: List[int] = sorted([randint(-15, 15) for _ in range(randint(5, 15))])\n",
    "    search_num: int = randint(-15, 15)\n",
    "    print(a, search_num)\n",
    "    print(search_insert_K(a, search_num))\n",
    "    print(\"-\" * 40)"
   ]
  }
 ],
 "metadata": {
  "kernelspec": {
   "display_name": "Python 3",
   "language": "python",
   "name": "python3"
  },
  "language_info": {
   "codemirror_mode": {
    "name": "ipython",
    "version": 3
   },
   "file_extension": ".py",
   "mimetype": "text/x-python",
   "name": "python",
   "nbconvert_exporter": "python",
   "pygments_lexer": "ipython3",
   "version": "3.9.1"
  }
 },
 "nbformat": 4,
 "nbformat_minor": 5
}
