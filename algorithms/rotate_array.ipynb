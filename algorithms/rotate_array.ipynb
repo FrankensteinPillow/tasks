{
 "cells": [
  {
   "cell_type": "markdown",
   "id": "2111c312",
   "metadata": {},
   "source": [
    "## Cyclic array rotate\n",
    "> The task is taken from [here](https://leetcode.com/problems/rotate-array/)\n",
    "\n",
    "**Time complexity:** $O(n)$\n",
    "<br>**Memory complexity:** $O(1)$\n",
    "---\n",
    "We use here the principle by which we reverse the array three times.\n",
    "* Reverse the entire array\n",
    "* Reverse the array from $0$ to $k - 1$ elements\n",
    "* Reverse the array from $k$ to the last element"
   ]
  },
  {
   "cell_type": "code",
   "execution_count": 1,
   "id": "3354ca9e",
   "metadata": {},
   "outputs": [
    {
     "name": "stdout",
     "output_type": "stream",
     "text": [
      "[1, 2, 3, 4, 5, 6, 7, 8, 9, 10, 11, 12, 13, 14, 15, 16, 17]\n",
      "[8, 9, 10, 11, 12, 13, 14, 15, 16, 17, 1, 2, 3, 4, 5, 6, 7]\n",
      "[11, 12, 13, 14, 15, 16, 17, 1, 2, 3, 4, 5, 6, 7, 8, 9, 10]\n"
     ]
    }
   ],
   "source": [
    "def rotate(arr: list[int], k: int, right=True) -> None:\n",
    "    n: int = len(arr)\n",
    "    k %= n\n",
    "    if not right:\n",
    "        k = n - k\n",
    "\n",
    "    def reverse(rev_arr: list[int], st_i: int, end_i: int) -> None:\n",
    "        while st_i < end_i:\n",
    "            rev_arr[st_i], rev_arr[end_i] = rev_arr[end_i], rev_arr[st_i]\n",
    "            st_i += 1\n",
    "            end_i -= 1\n",
    "\n",
    "    reverse(arr, 0, n - 1)\n",
    "    reverse(arr, 0, k - 1)\n",
    "    reverse(arr, k, n - 1)\n",
    "\n",
    "\n",
    "arr: list[int] = [1, 2, 3, 4, 5, 6, 7, 8, 9, 10, 11, 12, 13, 14, 15, 16, 17]\n",
    "print(arr)\n",
    "rotate(arr, 10)\n",
    "print(arr)\n",
    "rotate(arr, 3, right=False)\n",
    "print(arr)"
   ]
  }
 ],
 "metadata": {
  "celltoolbar": "Tags",
  "kernelspec": {
   "display_name": "Python 3",
   "language": "python",
   "name": "python3"
  },
  "language_info": {
   "codemirror_mode": {
    "name": "ipython",
    "version": 3
   },
   "file_extension": ".py",
   "mimetype": "text/x-python",
   "name": "python",
   "nbconvert_exporter": "python",
   "pygments_lexer": "ipython3",
   "version": "3.9.1"
  }
 },
 "nbformat": 4,
 "nbformat_minor": 5
}
