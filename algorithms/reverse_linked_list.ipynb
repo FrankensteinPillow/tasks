{
 "cells": [
  {
   "cell_type": "markdown",
   "id": "dff744e0",
   "metadata": {},
   "source": [
    "## Reverse linked list\n",
    "\n",
    "Simple algorithm for reversal linked list without additional memory overhead.\n",
    "\n",
    "**Time complexity**: $O(n)$\n",
    "<br>**Memory complexity**: $O(1)$\n",
    "\n",
    "\n",
    "> The implementation of the **LinkedList** class can be found [here](https://github.com/FrankensteinPillow/tasks/blob/main/algorithms/linked_list.ipynb)"
   ]
  },
  {
   "cell_type": "code",
   "execution_count": 2,
   "id": "a0aeb194",
   "metadata": {},
   "outputs": [
    {
     "name": "stdout",
     "output_type": "stream",
     "text": [
      "[ 0 | next_ref ] --> [ 1 | next_ref ] --> [ 2 | next_ref ] --> [ 3 | next_ref ] --> [ 4 | None ]\n",
      "[ 4 | next_ref ] --> [ 3 | next_ref ] --> [ 2 | next_ref ] --> [ 1 | next_ref ] --> [ 0 | None ]\n"
     ]
    }
   ],
   "source": [
    "def reverse_linked_list(ll: LinkedList[T]) -> None:\n",
    "    prev_node: Optional[Node[T]] = None\n",
    "    current: Optional[Node[T]] = ll.head\n",
    "    next_node: Optional[Node[T]] = None\n",
    "    while current is not None:\n",
    "        next_node = current.next_node\n",
    "        current.next_node = prev_node\n",
    "        prev_node = current\n",
    "        current = next_node\n",
    "    ll.head = prev_node\n",
    "\n",
    "\n",
    "ll: LinkedList[int] = LinkedList.from_list([i for i in range(5)])\n",
    "print(ll)\n",
    "reverse_linked_list(ll)\n",
    "print(ll)"
   ]
  },
  {
   "cell_type": "markdown",
   "id": "f6d54d4b",
   "metadata": {},
   "source": [
    "Algorithm visualization:\n",
    "\n",
    "![reversed linked List](https://media.geeksforgeeks.org/wp-content/cdn-uploads/RGIF2.gif)"
   ]
  }
 ],
 "metadata": {
  "kernelspec": {
   "display_name": "Python 3",
   "language": "python",
   "name": "python3"
  },
  "language_info": {
   "codemirror_mode": {
    "name": "ipython",
    "version": 3
   },
   "file_extension": ".py",
   "mimetype": "text/x-python",
   "name": "python",
   "nbconvert_exporter": "python",
   "pygments_lexer": "ipython3",
   "version": "3.9.1"
  }
 },
 "nbformat": 4,
 "nbformat_minor": 5
}
