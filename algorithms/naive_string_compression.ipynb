{
 "cells": [
  {
   "cell_type": "markdown",
   "id": "616b3454",
   "metadata": {},
   "source": [
    "## Naive string compression\n",
    "\n",
    "The task is to write a function that would accept a string as input, return a compressed string at the output based on the principle of counting the number of identical letters in a row. If the output string is the same or larger, you need to return the original string.\n",
    "<br>**Time complexity: $O(n)$**\n",
    "<br>**Memory complexity: $O(1)$**"
   ]
  },
  {
   "cell_type": "code",
   "execution_count": 1,
   "id": "3714ea35",
   "metadata": {},
   "outputs": [
    {
     "name": "stdout",
     "output_type": "stream",
     "text": [
      "aaaa -> a4\n",
      "aaabbb -> a3b3\n",
      "aaabcd -> aaabcd\n",
      "some string -> some string\n",
      "kkkkdiiiwwhjhjdddddkdmmmmmmmmslkq -> k4d1i3w2h1j1h1j1d5k1d1m8s1l1k1q1\n",
      "kkkeeeuuucccnnnfffjgjg -> k3e3u3c3n3f3j1g1j1g1\n",
      " -> \n",
      "a -> a\n"
     ]
    }
   ],
   "source": [
    "from typing import List\n",
    "\n",
    "\n",
    "def naive_string_compression(some_string: str) -> str:\n",
    "    if not some_string:\n",
    "        return some_string\n",
    "    result: List[str] = []\n",
    "    p1: int = 0\n",
    "    p2: int = 0\n",
    "    while p2 <= len(some_string) - 1:\n",
    "        if some_string[p2] != some_string[p1]:\n",
    "            result.append(some_string[p1])\n",
    "            result.append(str(p2 - p1))\n",
    "            p1 = p2\n",
    "        p2 += 1\n",
    "    result.append(some_string[p1])\n",
    "    result.append(str(p2 - p1))\n",
    "    return r if len(r := \"\".join(result)) < len(some_string) else some_string\n",
    "\n",
    "\n",
    "strings: List[str] = [\n",
    "    \"aaaa\",\n",
    "    \"aaabbb\",\n",
    "    \"aaabcd\",\n",
    "    \"some string\",\n",
    "    \"kkkkdiiiwwhjhjdddddkdmmmmmmmmslkq\",\n",
    "    \"kkkeeeuuucccnnnfffjgjg\",\n",
    "    \"\",\n",
    "    \"a\",\n",
    "]\n",
    "\n",
    "for string in strings:\n",
    "    print(f\"{string} -> {naive_string_compression(string)}\")"
   ]
  }
 ],
 "metadata": {
  "kernelspec": {
   "display_name": "Python 3",
   "language": "python",
   "name": "python3"
  },
  "language_info": {
   "codemirror_mode": {
    "name": "ipython",
    "version": 3
   },
   "file_extension": ".py",
   "mimetype": "text/x-python",
   "name": "python",
   "nbconvert_exporter": "python",
   "pygments_lexer": "ipython3",
   "version": "3.9.1"
  }
 },
 "nbformat": 4,
 "nbformat_minor": 5
}
