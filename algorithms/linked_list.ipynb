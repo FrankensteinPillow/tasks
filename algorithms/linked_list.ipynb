{
 "cells": [
  {
   "cell_type": "markdown",
   "id": "170765f3",
   "metadata": {},
   "source": [
    "## Linked list\n",
    "\n",
    "A linked list consists of nodes where each node contains a data field and a reference (link) to the next node in the list.\n",
    "![Linked List](https://user-images.githubusercontent.com/44495093/112633393-5b92bf00-8e4a-11eb-83dc-36256f39d4a5.png)"
   ]
  },
  {
   "cell_type": "code",
   "execution_count": 1,
   "id": "aff5e6ef",
   "metadata": {},
   "outputs": [
    {
     "name": "stdout",
     "output_type": "stream",
     "text": [
      "[ 1 | next_ref ] --> [ 2 | next_ref ] --> [ 3 | next_ref ] --> [ 4 | next_ref ] --> [ 5 | None ]\n"
     ]
    }
   ],
   "source": [
    "from typing import Generic, List, Optional, TypeVar\n",
    "\n",
    "T = TypeVar(\"T\")\n",
    "\n",
    "\n",
    "class Node(Generic[T]):\n",
    "\n",
    "    data: T\n",
    "    next_node: Optional[\"Node[T]\"]\n",
    "\n",
    "    def __init__(self, data: T):\n",
    "        self.data = data\n",
    "        self.next_node = None\n",
    "\n",
    "    def __str__(self) -> str:\n",
    "        if self.next_node is None:\n",
    "            return str(f\"[ {self.data} | None ]\")\n",
    "        else:\n",
    "            return str(f\"[ {self.data} | next_ref ] --> \")\n",
    "\n",
    "\n",
    "class LinkedList(Generic[T]):\n",
    "\n",
    "    head: Optional[Node[T]]\n",
    "\n",
    "    def __init__(self):\n",
    "        self.head = None\n",
    "\n",
    "    def __str__(self) -> str:\n",
    "        repr_str: List[str] = []\n",
    "        cur: Optional[Node[T]] = self.head\n",
    "        while cur is not None:\n",
    "            repr_str.append(str(cur))\n",
    "            cur = cur.next_node\n",
    "        return \"\".join(repr_str)\n",
    "\n",
    "    @classmethod\n",
    "    def from_list(cls, some_list: List[T]) -> \"LinkedList[T]\":\n",
    "        if not some_list:\n",
    "            return cls()\n",
    "        ll: \"LinkedList[T]\" = cls()\n",
    "        ll.head = Node(some_list[0])\n",
    "        cur_node: Node[T] = ll.head\n",
    "        for i in some_list[1:]:\n",
    "            cur_node.next_node = Node(i)\n",
    "            cur_node = cur_node.next_node\n",
    "        return ll\n",
    "\n",
    "\n",
    "ll: LinkedList[int] = LinkedList.from_list([1, 2, 3, 4, 5])\n",
    "print(ll)"
   ]
  }
 ],
 "metadata": {
  "kernelspec": {
   "display_name": "Python 3",
   "language": "python",
   "name": "python3"
  },
  "language_info": {
   "codemirror_mode": {
    "name": "ipython",
    "version": 3
   },
   "file_extension": ".py",
   "mimetype": "text/x-python",
   "name": "python",
   "nbconvert_exporter": "python",
   "pygments_lexer": "ipython3",
   "version": "3.9.1"
  }
 },
 "nbformat": 4,
 "nbformat_minor": 5
}
