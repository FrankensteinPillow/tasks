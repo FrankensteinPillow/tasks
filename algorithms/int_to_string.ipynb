{
 "cells": [
  {
   "cell_type": "markdown",
   "id": "ec677878",
   "metadata": {},
   "source": [
    "## Integer value to string\n",
    "\n",
    "The task is to write a function that will convert an integer value to a string representation in any number system.\n"
   ]
  },
  {
   "cell_type": "code",
   "execution_count": 1,
   "id": "1f81d75a",
   "metadata": {},
   "outputs": [
    {
     "name": "stdout",
     "output_type": "stream",
     "text": [
      "Number 0 is '00b' string in base of 2\n",
      "Number -15 is '-120' string in base of 3\n",
      "Number -24 is '-120' string in base of 4\n",
      "Number -25 is '-100' string in base of 5\n",
      "Number -24 is '-40' string in base of 6\n",
      "Number -56 is '-110' string in base of 7\n",
      "Number -8 is '-0o10' string in base of 8\n",
      "Number 63 is '70' string in base of 9\n",
      "Number -20 is '-20' string in base of 10\n",
      "Number -88 is '-80' string in base of 11\n",
      "Number 72 is '60' string in base of 12\n",
      "Number -104 is '-80' string in base of 13\n",
      "Number -84 is '-60' string in base of 14\n",
      "Number 45 is '30' string in base of 15\n",
      "Number 64 is '0x40' string in base of 16\n",
      "Number 170 is 'a0' string in base of 17\n",
      "Number 126 is '70' string in base of 18\n",
      "Number 152 is '80' string in base of 19\n",
      "Number -180 is '-90' string in base of 20\n",
      "Number 147 is '70' string in base of 21\n",
      "Number 198 is '90' string in base of 22\n",
      "Number -138 is '-60' string in base of 23\n",
      "Number -240 is '-a0' string in base of 24\n",
      "Number 125 is '50' string in base of 25\n",
      "Number -234 is '-90' string in base of 26\n",
      "Number -243 is '-90' string in base of 27\n",
      "Number 112 is '40' string in base of 28\n",
      "Number 145 is '50' string in base of 29\n",
      "Number -180 is '-60' string in base of 30\n",
      "Number -31 is '-10' string in base of 31\n",
      "Number -288 is '-90' string in base of 32\n",
      "Number -132 is '-40' string in base of 33\n",
      "Number 306 is '90' string in base of 34\n",
      "Number 175 is '50' string in base of 35\n",
      "Number -72 is '-20' string in base of 36\n"
     ]
    }
   ],
   "source": [
    "from random import randint\n",
    "from typing import Dict, List\n",
    "\n",
    "\n",
    "def int_to_str(number: int, base: int = 10) -> str:\n",
    "    prefixes: Dict[int, str] = {2: \"0b\", 8: \"0o\", 16: \"0x\"}\n",
    "    if number == 0:\n",
    "        return f\"0{prefixes.get(base, '')}\"\n",
    "    negative: bool = number < 0\n",
    "    number = abs(number)\n",
    "    result: List[str] = []\n",
    "    while number != 0:\n",
    "        rest: int = number % base\n",
    "        start_ord: int = ord(\"0\")\n",
    "        if rest > 9:\n",
    "            mul: int = (rest // 10) - 1\n",
    "            rest %= 10\n",
    "            rest += 10 * mul\n",
    "            start_ord = ord(\"a\")\n",
    "        n_char: str = chr(start_ord + rest)\n",
    "        result.append(n_char)\n",
    "        number //= base\n",
    "    result.append(prefixes.get(base, \"\"))\n",
    "    if negative:\n",
    "        result.append(\"-\")\n",
    "    return \"\".join(reversed(result))\n",
    "\n",
    "\n",
    "examples: Dict[int, int] = {\n",
    "    base: base * randint(-10, 10) for base in range(2, 37)\n",
    "}\n",
    "for base, number in sorted(examples.items()):\n",
    "    str_number: str = int_to_str(number=number, base=base)\n",
    "    print(f\"Number {number} is '{str_number}' string in base of {base}\")"
   ]
  }
 ],
 "metadata": {
  "kernelspec": {
   "display_name": "Python 3",
   "language": "python",
   "name": "python3"
  },
  "language_info": {
   "codemirror_mode": {
    "name": "ipython",
    "version": 3
   },
   "file_extension": ".py",
   "mimetype": "text/x-python",
   "name": "python",
   "nbconvert_exporter": "python",
   "pygments_lexer": "ipython3",
   "version": "3.9.1"
  }
 },
 "nbformat": 4,
 "nbformat_minor": 5
}
