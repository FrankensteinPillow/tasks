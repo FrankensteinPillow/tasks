{
 "cells": [
  {
   "cell_type": "markdown",
   "id": "a5a79d14",
   "metadata": {},
   "source": [
    "## Palindrome permutation\n",
    "The challenge is to write a function that can determine if the input string is a palindrome string permutation.\n",
    "<br>**Time complexity: $O(n)$**\n",
    "<br>**Memory complexity: $O(n)$**"
   ]
  },
  {
   "cell_type": "code",
   "execution_count": 2,
   "id": "b85c2ff8",
   "metadata": {},
   "outputs": [
    {
     "name": "stdout",
     "output_type": "stream",
     "text": [
      "А роза упала на лапу Азора -> True\n",
      "А ра упалАоа нза лпу зоара -> True\n",
      "Ара упалАоар  нзалпу  зоаа -> True\n",
      "Dogma I am God -> True\n",
      "oGmDa m gaId o -> True\n",
      "goaID   amoGmd -> True\n",
      "Hello World -> False\n",
      "aabccbccaa -> True\n",
      "aabccbccbaa -> True\n",
      "aabccbcccbaa -> False\n",
      "Diablo II it is the best game in the world -> False\n"
     ]
    }
   ],
   "source": [
    "from typing import Dict, List\n",
    "\n",
    "\n",
    "def is_palindrome_permutation(some_string: str) -> bool:\n",
    "    some_string = some_string.lower().replace(\" \", \"\")\n",
    "    if len(some_string) <= 1:\n",
    "        return False\n",
    "    string_hm: Dict[str, int] = {}\n",
    "    for char in some_string:\n",
    "        if char not in string_hm:\n",
    "            string_hm[char] = 1\n",
    "        else:\n",
    "            string_hm[char] += 1\n",
    "    not_even_count: int = 0\n",
    "    for char_counter in string_hm.values():\n",
    "        if char_counter % 2 != 0:\n",
    "            not_even_count += 1\n",
    "            if not_even_count > 1:\n",
    "                return False\n",
    "    return True\n",
    "\n",
    "\n",
    "strings: List[str] = [\n",
    "    \"А роза упала на лапу Азора\",\n",
    "    \"А ра упалАоа нза лпу зоара\",\n",
    "    \"Ара упалАоар  нзалпу  зоаа\",\n",
    "    \"Dogma I am God\",\n",
    "    \"oGmDa m gaId o\",\n",
    "    \"goaID   amoGmd\",\n",
    "    \"Hello World\",\n",
    "    \"aabccbccaa\",\n",
    "    \"aabccbccbaa\",\n",
    "    \"aabccbcccbaa\",\n",
    "    \"Diablo II it is the best game in the world\",\n",
    "]\n",
    "for string in strings:\n",
    "    print(f\"{string} -> {is_palindrome_permutation(string)}\")"
   ]
  }
 ],
 "metadata": {
  "kernelspec": {
   "display_name": "Python 3",
   "language": "python",
   "name": "python3"
  },
  "language_info": {
   "codemirror_mode": {
    "name": "ipython",
    "version": 3
   },
   "file_extension": ".py",
   "mimetype": "text/x-python",
   "name": "python",
   "nbconvert_exporter": "python",
   "pygments_lexer": "ipython3",
   "version": "3.9.1"
  }
 },
 "nbformat": 4,
 "nbformat_minor": 5
}
