{
 "cells": [
  {
   "cell_type": "markdown",
   "id": "452743d1",
   "metadata": {},
   "source": [
    "## Frequencies of Limited Range Array Elements\n",
    "> The task is taken from [here](https://practice.geeksforgeeks.org/problems/frequency-of-array-elements-1587115620/1)\n",
    "\n",
    "There is an array of size N. Task is to count the frequency of all elements from 1 to N.\n",
    "<br>**Time complexity: $O(n)$**\n",
    "<br>**Memory complexity: $O(1)$**"
   ]
  },
  {
   "cell_type": "code",
   "execution_count": 1,
   "id": "ec69ce0f",
   "metadata": {},
   "outputs": [
    {
     "name": "stdout",
     "output_type": "stream",
     "text": [
      "------------------------------\n",
      "[5, 8, 4, 11, 6, 6, 10, 2, 11, 3, 8]\n",
      "[0, 1, 1, 1, 1, 2, 0, 2, 0, 1, 2]\n",
      "------------------------------\n",
      "[4, 4, 1, 3]\n",
      "[1, 0, 1, 2]\n",
      "------------------------------\n",
      "[1, 11, 2, 4, 1, 3, 7, 4, 3, 8, 4]\n",
      "[2, 1, 2, 3, 0, 0, 1, 1, 0, 0, 1]\n",
      "------------------------------\n",
      "[9, 9, 5, 6, 8, 4, 3, 7, 5]\n",
      "[0, 0, 1, 1, 2, 1, 1, 1, 2]\n",
      "------------------------------\n",
      "[2, 3, 5, 2, 1]\n",
      "[1, 2, 1, 0, 1]\n",
      "------------------------------\n",
      "[3, 8, 5, 5, 7, 8, 6, 8]\n",
      "[0, 0, 1, 0, 2, 1, 1, 3]\n",
      "------------------------------\n",
      "[9, 8, 6, 3, 9, 8, 7, 4, 3]\n",
      "[0, 0, 2, 1, 0, 1, 1, 2, 2]\n",
      "------------------------------\n",
      "[5, 5, 2, 6, 3, 6]\n",
      "[0, 1, 1, 0, 2, 2]\n",
      "------------------------------\n",
      "[2, 4, 5, 6, 5, 2]\n",
      "[0, 2, 0, 1, 2, 1]\n",
      "------------------------------\n",
      "[1, 6, 3, 2, 3, 5]\n",
      "[1, 1, 2, 0, 1, 1]\n"
     ]
    }
   ],
   "source": [
    "from random import randint\n",
    "from typing import List\n",
    "\n",
    "\n",
    "def freq_arr_elements_n_1(nums: List[int]) -> None:\n",
    "    i: int = 0\n",
    "    while i < len(nums):\n",
    "        if nums[i] <= 0:\n",
    "            i += 1\n",
    "            continue\n",
    "        element_index: int = nums[i] - 1\n",
    "        if element_index >= len(nums):\n",
    "            nums[i] = 0\n",
    "            i += 1\n",
    "            continue\n",
    "        if nums[element_index] > 0:\n",
    "            nums[i] = nums[element_index]\n",
    "            nums[element_index] = -1\n",
    "        else:\n",
    "            nums[element_index] -= 1\n",
    "            nums[i] = 0\n",
    "            i += 1\n",
    "    for i, v in enumerate(nums):\n",
    "        nums[i] = abs(v)\n",
    "\n",
    "\n",
    "for _ in range(10):\n",
    "    print(\"-\" * 30)\n",
    "    threshold: int = randint(1, 12)\n",
    "    a: List[int] = [randint(1, threshold) for _ in range(threshold)]\n",
    "    print(a)\n",
    "    freq_arr_elements_n_1(a)\n",
    "    print(a)"
   ]
  }
 ],
 "metadata": {
  "kernelspec": {
   "display_name": "Python 3",
   "language": "python",
   "name": "python3"
  },
  "language_info": {
   "codemirror_mode": {
    "name": "ipython",
    "version": 3
   },
   "file_extension": ".py",
   "mimetype": "text/x-python",
   "name": "python",
   "nbconvert_exporter": "python",
   "pygments_lexer": "ipython3",
   "version": "3.9.1"
  }
 },
 "nbformat": 4,
 "nbformat_minor": 5
}
